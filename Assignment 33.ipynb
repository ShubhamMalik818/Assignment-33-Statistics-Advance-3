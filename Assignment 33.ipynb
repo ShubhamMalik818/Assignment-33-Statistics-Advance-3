{
 "cells": [
  {
   "cell_type": "code",
   "execution_count": null,
   "id": "e2976303-45aa-4915-b856-ba8508a5c273",
   "metadata": {},
   "outputs": [],
   "source": [
    "1. What is Estimation Statistics? Explain point estimate and interval estimate."
   ]
  },
  {
   "cell_type": "code",
   "execution_count": null,
   "id": "feec5c8a-49f6-4fce-b6c7-1197c9a88e4e",
   "metadata": {},
   "outputs": [],
   "source": [
    "ANS- Estimation statistics is a branch of statistics that deals with estimating population parameters based on sample statistics. \n",
    "     It involves using statistical methods to make inferences about population parameters based on the characteristics of a sample.\n",
    "\n",
    "There are two main types of estimation in statistics: \n",
    "    1. Point estimation  \n",
    "    2. Interval estimation.\n",
    "\n",
    "Point estimation involves using a single value to estimate a population parameter. \n",
    "For example, the sample mean is often used as a point estimate of the population mean, while the sample proportion is often used as a \n",
    "point estimate of the population proportion. Point estimates can be calculated using various formulas and techniques, depending on the \n",
    "type of parameter being estimated and the characteristics of the sample.\n",
    "\n",
    "Interval estimation, on the other hand, involves estimating a population parameter by calculating a range of values within which the true \n",
    "parameter value is likely to fall, along with a level of confidence associated with that range. This range is known as a confidence interval. \n",
    "Confidence intervals are calculated using point estimates, along with information about the variability of the sample data and the sample size. \n",
    "For example, a 95% confidence interval for the population mean would be a range of values within which we can be 95% confident that the \n",
    "true population mean falls.\n",
    "\n",
    "The choice between point estimation and interval estimation depends on the purpose of the estimation and the level of precision required. \n",
    "\n",
    "Point estimates are often used when a single value is sufficient, such as when making a decision based on a sample statistic. \n",
    "\n",
    "Interval estimates are often used when a range of values is required, such as when estimating a population parameter with a certain \n",
    "level of confidence."
   ]
  },
  {
   "cell_type": "code",
   "execution_count": null,
   "id": "7989468a-ec63-4727-b7fa-55880d5ac83b",
   "metadata": {},
   "outputs": [],
   "source": [
    "2. Write a Python function to estimate the population mean using a sample mean and standard deviation."
   ]
  },
  {
   "cell_type": "code",
   "execution_count": null,
   "id": "94462a54-38a9-41b0-895f-ef365828f8af",
   "metadata": {},
   "outputs": [],
   "source": [
    "import math\n",
    "\n",
    "def estimate_population_mean(sample_mean, sample_std, sample_size):\n",
    "    \"\"\"\n",
    "    Calculates the estimated population mean using a sample mean, standard deviation,\n",
    "    and sample size.\n",
    "    \n",
    "    Parameters:\n",
    "    sample_mean (float): the sample mean\n",
    "    sample_std (float): the sample standard deviation\n",
    "    sample_size (int): the sample size\n",
    "    \n",
    "    Returns:\n",
    "    float: the estimated population mean\n",
    "    \"\"\"\n",
    "    standard_error = sample_std / math.sqrt(sample_size)\n",
    "    z_score = 1.96 # Assuming a 95% confidence interval\n",
    "    margin_of_error = z_score * standard_error\n",
    "    lower_bound = sample_mean - margin_of_error\n",
    "    upper_bound = sample_mean + margin_of_error\n",
    "    return (lower_bound + upper_bound) / 2\n",
    "\n",
    "This function takes in three parameters: the sample mean, the sample standard deviation, and the sample size. It then calculates the \n",
    "standard error of the mean using the sample standard deviation and sample size. It assumes a 95% confidence interval and calculates the margin \n",
    "of error based on the standard error and the z-score for a 95% confidence interval (1.96). \n",
    "Finally, it calculates the lower and upper bounds of the confidence interval and returns the midpoint of the interval as the estimated population mean.\n",
    "\n",
    "Note that this function assumes that the sample is drawn from a normal distribution. If the sample is drawn from a non-normal distribution, \n",
    "additional adjustments may be necessary."
   ]
  },
  {
   "cell_type": "code",
   "execution_count": null,
   "id": "3613c1f5-4ceb-4cd8-8cd2-8d620891da4b",
   "metadata": {},
   "outputs": [],
   "source": [
    "3. What is Hypothesis testing? Why is it used? State the importance of Hypothesis testing."
   ]
  },
  {
   "cell_type": "code",
   "execution_count": null,
   "id": "0339d335-617e-4158-b348-6521ecc984cc",
   "metadata": {},
   "outputs": [],
   "source": [
    "ANS- Hypothesis testing is a statistical method used to make inferences about a population based on a sample of data. \n",
    "     It involves formulating a hypothesis about a population parameter, collecting and analyzing sample data, and using the data to \n",
    "     test the hypothesis.\n",
    "\n",
    "Hypothesis testing is used to determine whether a hypothesis about a population parameter is supported by the sample data or \n",
    "whether it is likely to be false. It is used in a variety of fields, including business, economics, psychology, medicine, and many others.\n",
    "\n",
    "The importance of hypothesis testing lies in its ability to provide a rigorous framework for making decisions based on data. \n",
    "By testing hypothesis, we can make informed decisions about the population based on the sample data. \n",
    "Hypothesis testing allows us to draw conclusions about a population based on limited sample data, while also accounting for the uncertainty \n",
    "inherent in the sampling process.\n",
    "\n",
    "In addition to providing a framework for decision-making, hypothesis testing is also important for scientific inquiry. \n",
    "Hypothesis testing allows us to test theoretical predictions and validate or refute scientific theories. It is an essential tool for \n",
    "advancing scientific knowledge and understanding.\n",
    "\n",
    "Overall, hypothesis testing is a powerful tool for making inferences about a population based on sample data. It allows us to draw conclusions \n",
    "with a high degree of confidence, while also accounting for the uncertainty inherent in the sampling process."
   ]
  },
  {
   "cell_type": "code",
   "execution_count": null,
   "id": "166daac1-0978-4346-a7f3-856a1b397bb4",
   "metadata": {},
   "outputs": [],
   "source": [
    "4. Create a hypothesis that states whether the average weight of male college students is greater than the average weight of female college students."
   ]
  },
  {
   "cell_type": "code",
   "execution_count": null,
   "id": "ee05c4d1-dfe5-409e-ac7e-2cd230633397",
   "metadata": {},
   "outputs": [],
   "source": [
    "ANS- Hypothesis: The average weight of male college students is greater than the average weight of female college students.\n",
    "\n",
    "Symbolically, we can represent this as:\n",
    "\n",
    "Null Hypothesis, H0: μ_male <= μ_female\n",
    "\n",
    "Alternate Hypothesis, H1: μ_male > μ_female\n",
    "\n",
    "Where H0 is the null hypothesis, which states that there is no difference between the average weights of male and female college students, \n",
    "and H1 is the alternative hypothesis, which states that the average weight of male college students is greater than the average weight of \n",
    "female college students.\n",
    "\n",
    "To test this hypothesis, we would collect a sample of male and female college students, measure their weights, and compare the sample \n",
    "means using appropriate statistical tests"
   ]
  },
  {
   "cell_type": "code",
   "execution_count": null,
   "id": "adc47835-1022-45a6-9acc-ff7e8ef77749",
   "metadata": {},
   "outputs": [],
   "source": [
    "5. Write a Python script to conduct a hypothesis test on the difference between two population means, given a sample from each population."
   ]
  },
  {
   "cell_type": "code",
   "execution_count": 1,
   "id": "3da6c96c-88f2-4230-a0d4-fef7afe221bc",
   "metadata": {},
   "outputs": [
    {
     "name": "stdout",
     "output_type": "stream",
     "text": [
      "Reject the null hypothesis.\n",
      "p-value: 0.0010528257933664076\n"
     ]
    }
   ],
   "source": [
    "import numpy as np\n",
    "from scipy.stats import t\n",
    "\n",
    "# Step 1: Define the null and alternative hypothesis\n",
    "# H0: mu1 = mu2\n",
    "# H1: mu1 != mu2\n",
    "\n",
    "# Step 2: Set the significance level (alpha)\n",
    "alpha = 0.05\n",
    "\n",
    "# Step 3: Collect sample data from each population\n",
    "sample1 = np.array([1, 2, 3, 4, 5])\n",
    "sample2 = np.array([6, 7, 8, 9, 10])\n",
    "\n",
    "# Step 4: Calculate the sample means and standard deviations\n",
    "mean1 = np.mean(sample1)\n",
    "mean2 = np.mean(sample2)\n",
    "std1 = np.std(sample1, ddof=1)\n",
    "std2 = np.std(sample2, ddof=1)\n",
    "\n",
    "# Step 5: Calculate the test statistic (t-value)\n",
    "n1 = len(sample1)\n",
    "n2 = len(sample2)\n",
    "sp = np.sqrt(((n1-1)*std1**2 + (n2-1)*std2**2)/(n1+n2-2))\n",
    "t_value = (mean1 - mean2)/(sp*np.sqrt(1/n1 + 1/n2))\n",
    "\n",
    "# Step 6: Calculate the degrees of freedom\n",
    "df = n1 + n2 - 2\n",
    "\n",
    "# Step 7: Calculate the critical value\n",
    "t_critical = t.ppf(1-alpha/2, df)\n",
    "\n",
    "# Step 8: Compare the test statistic to the critical value and make a decision\n",
    "if np.abs(t_value) > t_critical:\n",
    "    print(\"Reject the null hypothesis.\")\n",
    "else:\n",
    "    print(\"Fail to reject the null hypothesis.\")\n",
    "\n",
    "# Step 9: Calculate the p-value\n",
    "p_value = 2*(1 - t.cdf(np.abs(t_value), df))\n",
    "print(\"p-value:\", p_value)"
   ]
  },
  {
   "cell_type": "code",
   "execution_count": null,
   "id": "bde532e5-b53d-4149-a845-33388c17eb8b",
   "metadata": {},
   "outputs": [],
   "source": [
    "In this example, we have two samples (sample1 and sample2) from two populations, and we want to test whether the population means are equal or not. \n",
    "We define the null and alternative hypothesis, set the significance level (alpha), collect the sample data, and calculate the sample means and \n",
    "standard deviations.\n",
    "\n",
    "Next, we calculate the test statistic (t-value) using the formula (mean1 - mean2)/(sp*np.sqrt(1/n1 + 1/n2)), where sp is pooled standard deviation. \n",
    "We then calculate the degrees of freedom (df) and the critical value (t_critical) using the t distribution from the scipy.stats module.\n",
    "\n",
    "We compare the test statistic to the critical value and make a decision to either reject the null hypothesis or fail to reject it. \n",
    "Finally, we calculate the p-value using the t.cdf function and print it out along with the decision."
   ]
  },
  {
   "cell_type": "code",
   "execution_count": null,
   "id": "bd47771e-e331-4bc0-87c0-7260b10954ba",
   "metadata": {},
   "outputs": [],
   "source": [
    "6. What is a null and alternative hypothesis? Give some examples."
   ]
  },
  {
   "cell_type": "code",
   "execution_count": null,
   "id": "7bcc0b22-57f2-4601-a968-86f1663eb669",
   "metadata": {},
   "outputs": [],
   "source": [
    "ANS- In statistical hypothesis testing, the null hypothesis and alternative hypothesis are two complementary statements about a population \n",
    "     or process under study. The null hypothesis is typically the default position or assumption that there is no significant difference or \n",
    "     relationship between variables, while the alternative hypothesis is the opposite or complementary statement that there is some significant \n",
    "    difference or relationship.\n",
    "\n",
    "Here are some examples:\n",
    "\n",
    "1. Null hypothesis: The mean height of male and female students in a university is the same.\n",
    "   Alternative hypothesis: The mean height of male students is greater than that of female students.\n",
    "\n",
    "2. Null hypothesis: The proportion of customers who purchase a product after seeing an advertisement is 50% or less.\n",
    "   Alternative hypothesis: The proportion of customers who purchase a product after seeing an advertisement is greater than 50%.\n",
    "\n",
    "3. Null hypothesis: The quality of a product manufactured by a company is acceptable.\n",
    "   Alternative hypothesis: The quality of a product manufactured by a company is not acceptable.\n",
    "\n",
    "4. Null hypothesis: The time taken to complete a task is the same for two different methods.\n",
    "   Alternative hypothesis: The time taken to complete a task is different for two different methods.\n",
    "\n",
    "In each example, the null hypothesis assumes that there is no significant difference or effect, while the alternative hypothesis proposes that \n",
    "there is a significant difference or effect. The hypothesis testing procedure is used to determine whether there is enough evidence to reject \n",
    "the null hypothesis in favor of the alternative hypothesis."
   ]
  },
  {
   "cell_type": "code",
   "execution_count": null,
   "id": "7035cf86-75bc-4fe7-9e08-7bee952825bd",
   "metadata": {},
   "outputs": [],
   "source": [
    "7. Write down the steps involved in hypothesis testing."
   ]
  },
  {
   "cell_type": "code",
   "execution_count": null,
   "id": "d4ca20b5-bc65-4568-aa00-0758639cfccc",
   "metadata": {},
   "outputs": [],
   "source": [
    "ANS- The general steps involved in hypothesis testing are:\n",
    "\n",
    "1. State the research question and formulate the null and alternative hypotheses: The first step is to clearly define the research question and \n",
    "   specify the null hypothesis (which assumes no effect or difference) and the alternative hypothesis (which proposes an effect or difference).\n",
    "\n",
    "2. Choose the level of significance: The level of significance (alpha) represents the maximum probability of rejecting the null hypothesis when \n",
    "   it is actually true. It is typically set to 0.05 (5%) or 0.01 (1%) depending on the context.\n",
    "\n",
    "3. Collect data and calculate test statistics: Collect a sample of data and calculate a test statistic that quantifies the difference between the \n",
    "   sample data and the null hypothesis.\n",
    "\n",
    "4. Determine the p-value: The p-value is the probability of observing a test statistic as extreme or more extreme than the one calculated from \n",
    "   the sample data, assuming the null hypothesis is true.\n",
    "\n",
    "5. Compare the p-value to the level of significance: If the p-value is less than the level of significance, reject the null hypothesis and \n",
    "   accept the alternative hypothesis. If the p-value is greater than the level of significance, do not reject the null hypothesis.\n",
    "\n",
    "6. Interpret the results: If the null hypothesis is rejected, interpret the results in terms of the alternative hypothesis and draw conclusions \n",
    "   about the research question. If the null hypothesis is not rejected, do not draw conclusions about the research question.\n",
    "\n",
    "7. Make a decision: Based on the conclusions drawn from the hypothesis test, make a decision about the research question.\n",
    "\n",
    "It is important to note that these steps may vary depending on the type of hypothesis test being conducted and the specific context of the \n",
    "research question."
   ]
  },
  {
   "cell_type": "code",
   "execution_count": null,
   "id": "845563a3-67ab-4efa-be4b-391f42b4ead4",
   "metadata": {},
   "outputs": [],
   "source": [
    "8. Define p-value and explain its significance in hypothesis testing."
   ]
  },
  {
   "cell_type": "code",
   "execution_count": null,
   "id": "38c44f72-98b7-4f05-b2aa-9db0de64fac4",
   "metadata": {},
   "outputs": [],
   "source": [
    "ANS- In hypothesis testing, the p-value is the probability of observing a test statistic as extreme or more extreme than the one calculated \n",
    "     from the sample data, assuming the null hypothesis is true. It is a measure of the evidence against the null hypothesis provided by the \n",
    "     sample data.\n",
    "\n",
    "The p-value is significant in hypothesis testing because it helps determine whether the null hypothesis should be rejected or not. \n",
    "If the p-value is less than the level of significance (often set to 0.05 or 0.01), then the null hypothesis is rejected and the alternative hypothesis \n",
    "is accepted. This means that there is strong evidence against the null hypothesis and the result is considered statistically significant.\n",
    "\n",
    "On the other hand, if the p-value is greater than the level of significance, then the null hypothesis is not rejected. This means that there is \n",
    "insufficient evidence against the null hypothesis and the result is considered statistically non-significant.\n",
    "\n",
    "It is important to note that the p-value is not the probability of the null hypothesis being true or false. It only represents the probability of \n",
    "observing the sample data or more extreme data, assuming the null hypothesis is true. Therefore, the interpretation of the p-value should always be \n",
    "considered in conjunction with the context of the research question and other relevant factors."
   ]
  },
  {
   "cell_type": "code",
   "execution_count": null,
   "id": "8998ecbe-eafa-48bf-977f-145732d8d6ed",
   "metadata": {},
   "outputs": [],
   "source": [
    "9. Generate a Student's t-distribution plot using Python's matplotlib library, with the degrees of freedom parameter set to 10."
   ]
  },
  {
   "cell_type": "code",
   "execution_count": null,
   "id": "bd87688c-2333-4c67-9f2b-309679fcf2d6",
   "metadata": {},
   "outputs": [],
   "source": [
    "import numpy as np\n",
    "import matplotlib.pyplot as plt\n",
    "\n",
    "# Generate x-values for the t-distribution\n",
    "x = np.linspace(-4, 4, 1000)\n",
    "\n",
    "# Compute the t-distribution using the probability density function\n",
    "df = 10  # Degrees of freedom\n",
    "t = np.random.standard_t(df, size=1000)  # Generate random sample from t-distribution\n",
    "pdf = stats.t.pdf(x, df)  # Probability density function\n",
    "\n",
    "# Plot the t-distribution\n",
    "fig, ax = plt.subplots()\n",
    "ax.plot(x, pdf, 'k-', lw=2, label='t-distribution')\n",
    "ax.hist(t, bins=30, density=True, histtype='stepfilled', alpha=0.5)\n",
    "ax.legend(loc='best', frameon=False)\n",
    "ax.set_xlabel('x')\n",
    "ax.set_ylabel('pdf(x)')\n",
    "plt.show()"
   ]
  },
  {
   "cell_type": "code",
   "execution_count": null,
   "id": "e6ae2e8e-c68f-4a6e-967e-83ccbd861db0",
   "metadata": {},
   "outputs": [],
   "source": [
    "10. Write a Python program to calculate the two-sample t-test for independent samples, given two random samples of equal size and \n",
    "a null hypothesis that the population means are equal."
   ]
  },
  {
   "cell_type": "code",
   "execution_count": 3,
   "id": "13f80854-6e51-46ee-b99d-2d2b4a520dda",
   "metadata": {},
   "outputs": [
    {
     "name": "stdout",
     "output_type": "stream",
     "text": [
      "Sample 1 Mean: 48.725845929122926\n",
      "Sample 2 Mean: 46.40795130381128\n",
      "T-Statistic: 1.4088837034464647\n",
      "P-Value: 0.16043803281428895\n"
     ]
    }
   ],
   "source": [
    "import numpy as np\n",
    "from scipy.stats import t\n",
    "\n",
    "# Generate two random samples of equal size\n",
    "sample1 = np.random.normal(50, 10, size=100)\n",
    "sample2 = np.random.normal(45, 12, size=100)\n",
    "\n",
    "# Calculate the sample means and standard deviations\n",
    "mean1 = np.mean(sample1)\n",
    "mean2 = np.mean(sample2)\n",
    "std1 = np.std(sample1, ddof=1)\n",
    "std2 = np.std(sample2, ddof=1)\n",
    "\n",
    "# Calculate the standard error of the difference between means\n",
    "se = np.sqrt((std1**2)/len(sample1) + (std2**2)/len(sample2))\n",
    "\n",
    "# Calculate the t-statistic and degrees of freedom\n",
    "t_stat = (mean1 - mean2) / se\n",
    "df = len(sample1) + len(sample2) - 2\n",
    "\n",
    "# Calculate the p-value for the two-sided test\n",
    "p_val = 2 * t.cdf(-np.abs(t_stat), df)\n",
    "\n",
    "# Print the results\n",
    "print(\"Sample 1 Mean:\", mean1)\n",
    "print(\"Sample 2 Mean:\", mean2)\n",
    "print(\"T-Statistic:\", t_stat)\n",
    "print(\"P-Value:\", p_val)"
   ]
  },
  {
   "cell_type": "code",
   "execution_count": null,
   "id": "58927a88-6159-41ac-b8e3-a8391c1a2a03",
   "metadata": {},
   "outputs": [],
   "source": [
    "In this program, we first generate two random samples of equal size using the np.random.normal function from the NumPy library. \n",
    "We then calculate the sample means and standard deviations using the np.mean and np.std functions, respectively.\n",
    "\n",
    "Next, we calculate the standard error of the difference between means using the formula se = sqrt((std1**2)/n1 + (std2**2)/n2), \n",
    "where std1 and std2 are the standard deviations of the two samples, and n1 and n2 are the sizes of the two samples.\n",
    "\n",
    "We then calculate the t-statistic using the formula t_stat = (mean1 - mean2) / se, where mean1 and mean2 are the sample means, \n",
    "and se is the standard error of the difference between means.\n",
    "\n",
    "We also calculate the degrees of freedom using the formula df = n1 + n2 - 2, where n1 and n2 are the sizes of the two samples.\n",
    "\n",
    "Finally, we calculate the p-value for a two-sided test using the t.cdf function from the SciPy library, and print the results."
   ]
  },
  {
   "cell_type": "code",
   "execution_count": null,
   "id": "ece95b1f-79ad-415a-97e7-36221b3551cd",
   "metadata": {},
   "outputs": [],
   "source": [
    "11. What is Student’s t distribution? When to use the t-Distribution."
   ]
  },
  {
   "cell_type": "code",
   "execution_count": null,
   "id": "1b0bc24e-16b7-4177-a6be-605cea104b7f",
   "metadata": {},
   "outputs": [],
   "source": [
    "ANS- Student’s t-distribution is a probability distribution that is used to estimate the population mean when the sample size is small and/or \n",
    "     the population standard deviation is unknown. It is also used in hypothesis testing to determine whether two sample means are significantly \n",
    "     different from each other.\n",
    "\n",
    "The t-distribution is similar to the standard normal distribution but has heavier tails, which makes it more suitable for smaller sample sizes. \n",
    "It is a family of distributions that depends on the degrees of freedom (df), which is determined by the sample size minus one.\n",
    "\n",
    "The t-distribution is used when the population standard deviation is unknown and must be estimated from the sample data. \n",
    "This occurs in situations where the sample size is small or where the population standard deviation is not available. \n",
    "The t-distribution is also used in hypothesis testing when the population mean is unknown and must be estimated from the sample data."
   ]
  },
  {
   "cell_type": "code",
   "execution_count": null,
   "id": "b708ee28-3d78-4f5d-b137-7086e277cd0d",
   "metadata": {},
   "outputs": [],
   "source": [
    "12. What is t-statistic? State the formula for t-statistic."
   ]
  },
  {
   "cell_type": "code",
   "execution_count": null,
   "id": "05c09283-38ed-40c0-8f89-878ed3d26f65",
   "metadata": {},
   "outputs": [],
   "source": [
    "t-statistic is a measure used in hypothesis testing to determine whether the difference between two sample means is statistically significant or not. \n",
    "It is calculated as the difference between the sample means divided by the standard error of the difference.\n",
    "\n",
    "The formula for t-statistic is:\n",
    "\n",
    "t = (x̄1 - x̄2) / (s√(1/n1 + 1/n2))\n",
    "\n",
    "where:\n",
    "\n",
    "x̄1 and x̄2 are the sample means of the two independent samples\n",
    "s is the pooled standard deviation of the two samples, which is calculated as:\n",
    "s = sqrt(((n1-1)s1^2 + (n2-1)s2^2) / (n1 + n2 - 2))\n",
    "n1 and n2 are the sample sizes of the two independent samples\n",
    "\n",
    "The t-statistic is then compared to the critical values from the t-distribution with degrees of freedom equal to (n1 + n2 - 2) to determine \n",
    "the p-value and the significance of the difference between the two sample means."
   ]
  },
  {
   "cell_type": "code",
   "execution_count": null,
   "id": "a8de19f4-1000-49c9-861a-bde7dca5563e",
   "metadata": {},
   "outputs": [],
   "source": [
    "13. A coffee shop owner wants to estimate the average daily revenue for their shop. They take a random sample of 50 days and find the sample mean \n",
    "    revenue to be $500 with a standard deviation of $50. Estimate the population mean revenue with a 95% confidence interval."
   ]
  },
  {
   "cell_type": "code",
   "execution_count": null,
   "id": "a9b5cb6d-a373-43f7-a2b2-a0d6a5c4ac56",
   "metadata": {},
   "outputs": [],
   "source": [
    "ANS- To estimate the population mean revenue with a 95% confidence interval, we can use the following formula:\n",
    "\n",
    "Confidence interval = sample mean ± (critical value) x (standard error)\n",
    "\n",
    "where:\n",
    "\n",
    "sample mean = $500\n",
    "standard deviation = $50\n",
    "sample size (n) = 50\n",
    "degrees of freedom (df) = n - 1 = 49\n",
    "critical value for a 95% confidence interval and df = 49 is 2.01 (from t-distribution table)\n",
    "\n",
    "First, we need to calculate the standard error:\n",
    "\n",
    "standard error = standard deviation / sqrt(sample size)\n",
    "= $50 / sqrt(50)\n",
    "= $7.07\n",
    "\n",
    "Then, we can plug in the values into the formula:\n",
    "\n",
    "Confidence interval = $500 ± (2.01) x ($7.07)\n",
    "= $500 ± $14.20\n",
    "\n",
    "So the 95% confidence interval for the population mean revenue is ($485.80, $514.20). We can be 95% confident that the true population mean \n",
    "revenue is between these two values based on the sample data."
   ]
  },
  {
   "cell_type": "code",
   "execution_count": null,
   "id": "884143e3-c04f-4d40-9316-656e00d2806f",
   "metadata": {},
   "outputs": [],
   "source": [
    "14. A researcher hypothesizes that a new drug will decrease blood pressure by 10 mmHg. They conduct a clinical trial with 100 patients and find that \n",
    "    the sample mean decrease in blood pressure is 8 mmHg with a standard deviation of 3 mmHg. Test the hypothesis with a significance level of 0.05."
   ]
  },
  {
   "cell_type": "code",
   "execution_count": null,
   "id": "38e708b6-9fc7-4dd0-895b-50abe2ceea02",
   "metadata": {},
   "outputs": [],
   "source": [
    "To test the hypothesis, we can use a one-sample t-test.\n",
    "\n",
    "The null hypothesis is that the true population mean decrease in blood pressure is equal to 10 mmHg. \n",
    "The alternative hypothesis is that the true population mean decrease in blood pressure is less than 10 mmHg.\n",
    "\n",
    "Lets set the significance level (alpha) to 0.05.\n",
    "\n",
    "First, we need to calculate the t-statistic:\n",
    "\n",
    "t = (sample mean - hypothesized mean) / (standard deviation / sqrt(sample size))\n",
    "= (8 - 10) / (3 / sqrt(100))\n",
    "= -2.82\n",
    "\n",
    "Using a t-distribution table with degrees of freedom (df) = n - 1 = 99 and alpha = 0.05 for a one-tailed test (since we are testing if the mean \n",
    "decrease in blood pressure is less than 10 mmHg), we find the critical t-value to be -1.66.\n",
    "\n",
    "Since the calculated t-value (-2.82) is less than the critical t-value (-1.66), we reject the null hypothesis. \n",
    "This means that there is enough evidence to conclude that the new drug decreases blood pressure by less than 10 mmHg.\n",
    "\n",
    "Therefore, the researchers hypothesis is not supported by the sample data."
   ]
  },
  {
   "cell_type": "code",
   "execution_count": null,
   "id": "75eacaf3-8c3e-4c7a-87f8-69f8d2f13d39",
   "metadata": {},
   "outputs": [],
   "source": [
    "15. An electronics company produces a certain type of product with a mean weight of 5 pounds and a standard deviation of 0.5 pounds. A random sample \n",
    "    of 25 products is taken, and the sample mean weight is found to be 4.8 pounds. Test the hypothesis that the true mean weight of the products is \n",
    "    less than 5 pounds with a significance level of 0.01."
   ]
  },
  {
   "cell_type": "code",
   "execution_count": null,
   "id": "806eb1ec-7815-4c5d-8847-28116c921372",
   "metadata": {},
   "outputs": [],
   "source": [
    "We need to test the hypothesis that the true mean weight of the products is less than 5 pounds.\n",
    "\n",
    "Null hypothesis: The true mean weight of the products is equal to 5 pounds.\n",
    "Alternative hypothesis: The true mean weight of the products is less than 5 pounds.\n",
    "\n",
    "Lets assume a significance level of 0.01.\n",
    "\n",
    "We can use the one-sample t-test to test the hypothesis.\n",
    "\n",
    "The test statistic can be calculated as:\n",
    "\n",
    "t = (x̄ - μ) / (s / √n)\n",
    "\n",
    "where x̄ is the sample mean weight, μ is the hypothesized true mean weight (5 pounds), s is the sample standard deviation, and n is the sample size.\n",
    "\n",
    "Substituting the values, we get:\n",
    "\n",
    "t = (4.8 - 5) / (0.5 / √25) = -2\n",
    "\n",
    "The degrees of freedom for the t-distribution is (n - 1) = (25 - 1) = 24.\n",
    "\n",
    "Using a t-table or a t-distribution calculator, the critical t-value for a one-tailed test with a significance level of 0.01 and 24 \n",
    "degrees of freedom is -2.492.\n",
    "\n",
    "Since the calculated t-value (-2) is less than the critical t-value (-2.492), we can reject the null hypothesis.\n",
    "\n",
    "Conclusion: There is sufficient evidence to suggest that the true mean weight of the products is less than 5 pounds at a significance level of 0.01."
   ]
  },
  {
   "cell_type": "code",
   "execution_count": null,
   "id": "d63dd17b-f69d-4461-835a-0dc82fe7a1aa",
   "metadata": {},
   "outputs": [],
   "source": [
    "16. Two groups of students are given different study materials to prepare for a test. The first group (n1 =30) has a mean score of 80 with a \n",
    "standard deviation of 10, and the second group (n2 = 40) has a mean score of 75 with a standard deviation of 8. Test the hypothesis that the \n",
    "population means for the two groups are equal with a significance level of 0.01."
   ]
  },
  {
   "cell_type": "code",
   "execution_count": null,
   "id": "5a5757b7-1348-4095-a74d-957eb4957e41",
   "metadata": {},
   "outputs": [],
   "source": [
    "We can use a two-sample t-test to test the hypothesis that the population means for the two groups are equal. \n",
    "\n",
    "The null hypothesis is that the population means are equal, and the alternative hypothesis is that they are not equal.\n",
    "\n",
    "Assuming equal variances, the formula for the test statistic is:\n",
    "\n",
    "t = (x1 - x2) / (s_pool * sqrt(1/n1 + 1/n2))\n",
    "\n",
    "where x1 and x2 are the sample means, s_pool is the pooled standard deviation, and n1 and n2 are the sample sizes.\n",
    "\n",
    "To calculate the pooled standard deviation, we use the formula:\n",
    "\n",
    "s_pool = sqrt(((n1 - 1) * s1^2 + (n2 - 1) * s2^2) / (n1 + n2 - 2))\n",
    "\n",
    "where s1 and s2 are the sample standard deviations.\n",
    "\n",
    "Using a significance level of 0.01 and a two-tailed test, the critical value for t with degrees of freedom (df) = n1 + n2 - 2 = 68 and \n",
    "α/2 = 0.005 is ±2.660.\n",
    "\n",
    "We can calculate the values as follows:"
   ]
  },
  {
   "cell_type": "code",
   "execution_count": 4,
   "id": "8c92cf86-a932-40da-a102-ae3918f31455",
   "metadata": {},
   "outputs": [
    {
     "name": "stdout",
     "output_type": "stream",
     "text": [
      "Fail to reject null hypothesis: population means may be equal\n"
     ]
    }
   ],
   "source": [
    "import math\n",
    "\n",
    "# sample statistics\n",
    "x1 = 80\n",
    "s1 = 10\n",
    "n1 = 30\n",
    "\n",
    "x2 = 75\n",
    "s2 = 8\n",
    "n2 = 40\n",
    "\n",
    "# calculate pooled standard deviation\n",
    "s_pool = math.sqrt(((n1 - 1) * s1 ** 2 + (n2 - 1) * s2 ** 2) / (n1 + n2 - 2))\n",
    "\n",
    "# calculate test statistic\n",
    "t = (x1 - x2) / (s_pool * math.sqrt(1/n1 + 1/n2))\n",
    "\n",
    "# calculate critical value\n",
    "cv = 2.660\n",
    "\n",
    "# compare test statistic to critical value\n",
    "if abs(t) > cv:\n",
    "    print(\"Reject null hypothesis: population means are not equal\")\n",
    "else:\n",
    "    print(\"Fail to reject null hypothesis: population means may be equal\")"
   ]
  },
  {
   "cell_type": "code",
   "execution_count": null,
   "id": "3ea71cac-f988-4111-83d8-311617419b18",
   "metadata": {},
   "outputs": [],
   "source": [
    "The calculated t-value is 2.23, which is less than the critical value of ±2.660. \n",
    "Therefore, we fail to reject the null hypothesis and conclude that there is not enough evidence to suggest that the population means for the \n",
    "two groups are different at a significance level of 0.01."
   ]
  },
  {
   "cell_type": "code",
   "execution_count": null,
   "id": "c82da6c9-a462-4d41-9aea-1de6a127da9e",
   "metadata": {},
   "outputs": [],
   "source": [
    "17. A marketing company wants to estimate the average number of ads watched by viewers during a TV program. They take a random sample of 50 viewers \n",
    "    and find that the sample mean is 4 with a standard deviation of 1.5. Estimate the population mean with a 99% confidence interval."
   ]
  },
  {
   "cell_type": "code",
   "execution_count": null,
   "id": "1097b6a3-a679-4f2e-bac7-a2b0f2ea1664",
   "metadata": {},
   "outputs": [],
   "source": [
    "ANS- To estimate the population mean with a 99% confidence interval, we can use the following formula:\n",
    "\n",
    "CI = x̄ ± z*(σ/√n)\n",
    "\n",
    "where:\n",
    "\n",
    "x̄ = sample mean = 4\n",
    "σ = population standard deviation (unknown)\n",
    "n = sample size = 50\n",
    "z = z-score for 99% confidence level = 2.576\n",
    "\n",
    "First, we need to estimate the standard deviation of the population using the sample standard deviation:\n",
    "\n",
    "s = 1.5 (given)\n",
    "σ = s/√n = 1.5/√50 = 0.212\n",
    "\n",
    "Substituting the values in the formula, we get:\n",
    "\n",
    "CI = 4 ± 2.576*(0.212)\n",
    "CI = 4 ± 0.546\n",
    "CI = [3.454, 4.546]\n",
    "\n",
    "Therefore, we can say with 99% confidence that the population mean number of ads watched by viewers during a TV program is between 3.454 and 4.546."
   ]
  },
  {
   "cell_type": "code",
   "execution_count": null,
   "id": "73a15654-952e-477a-8ffb-02d4abf35d91",
   "metadata": {},
   "outputs": [],
   "source": []
  },
  {
   "cell_type": "code",
   "execution_count": null,
   "id": "9601347d-d8a0-46a5-b94d-b356381ea054",
   "metadata": {},
   "outputs": [],
   "source": []
  },
  {
   "cell_type": "code",
   "execution_count": null,
   "id": "79f1f81d-0a88-4111-8dbb-43598753160c",
   "metadata": {},
   "outputs": [],
   "source": []
  }
 ],
 "metadata": {
  "kernelspec": {
   "display_name": "Python 3 (ipykernel)",
   "language": "python",
   "name": "python3"
  },
  "language_info": {
   "codemirror_mode": {
    "name": "ipython",
    "version": 3
   },
   "file_extension": ".py",
   "mimetype": "text/x-python",
   "name": "python",
   "nbconvert_exporter": "python",
   "pygments_lexer": "ipython3",
   "version": "3.10.8"
  }
 },
 "nbformat": 4,
 "nbformat_minor": 5
}
